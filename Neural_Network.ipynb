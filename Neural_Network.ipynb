{
  "nbformat": 4,
  "nbformat_minor": 0,
  "metadata": {
    "colab": {
      "provenance": []
    },
    "kernelspec": {
      "name": "python3",
      "display_name": "Python 3"
    },
    "language_info": {
      "name": "python"
    }
  },
  "cells": [
    {
      "cell_type": "code",
      "execution_count": 47,
      "metadata": {
        "id": "M6GyyS-WkUtD"
      },
      "outputs": [],
      "source": [
        "a = [0, 0, 1, 1, 0, 0,\n",
        "     0, 1, 0, 0, 1, 0,\n",
        "     1, 1, 1, 1, 1, 1,\n",
        "     1, 0, 0, 0, 0, 1,\n",
        "     1, 0, 0, 0, 0, 1]\n",
        "\n",
        "b = [0, 1, 1, 1, 1, 0,\n",
        "     0, 1, 0, 0, 1, 0,\n",
        "     0, 1, 1, 1, 1, 0,\n",
        "     0, 1, 0, 0, 1, 0,\n",
        "     0, 1, 1, 1, 1, 0]\n",
        "\n",
        "c = [0, 1, 1, 1, 1, 0,\n",
        "     0, 1, 0, 0, 0, 0,\n",
        "     0, 1, 0, 0, 0, 0,\n",
        "     0, 1, 0, 0, 0, 0,\n",
        "     0, 1, 1, 1, 1, 0]\n"
      ]
    },
    {
      "cell_type": "code",
      "source": [
        "y = [[1, 0, 0],\n",
        "     [0, 1, 0],\n",
        "     [0, 0, 1]]"
      ],
      "metadata": {
        "id": "K_qNnbUUlo6I"
      },
      "execution_count": 48,
      "outputs": []
    },
    {
      "cell_type": "code",
      "source": [
        "x = [np.array(a).reshape(1, 30), np.array(b).reshape(1, 30), np.array(c).reshape(1, 30)]\n",
        "y = np.array(y)\n",
        "\n",
        "print(x, \"\\n\\n\", y)"
      ],
      "metadata": {
        "colab": {
          "base_uri": "https://localhost:8080/"
        },
        "id": "_nsaLYeemHrt",
        "outputId": "49c851ac-9a3e-48ab-a595-af097c43fce8"
      },
      "execution_count": 49,
      "outputs": [
        {
          "output_type": "stream",
          "name": "stdout",
          "text": [
            "[array([[0, 0, 1, 1, 0, 0, 0, 1, 0, 0, 1, 0, 1, 1, 1, 1, 1, 1, 1, 0, 0, 0,\n",
            "        0, 1, 1, 0, 0, 0, 0, 1]]), array([[0, 1, 1, 1, 1, 0, 0, 1, 0, 0, 1, 0, 0, 1, 1, 1, 1, 0, 0, 1, 0, 0,\n",
            "        1, 0, 0, 1, 1, 1, 1, 0]]), array([[0, 1, 1, 1, 1, 0, 0, 1, 0, 0, 0, 0, 0, 1, 0, 0, 0, 0, 0, 1, 0, 0,\n",
            "        0, 0, 0, 1, 1, 1, 1, 0]])] \n",
            "\n",
            " [[1 0 0]\n",
            " [0 1 0]\n",
            " [0 0 1]]\n"
          ]
        }
      ]
    },
    {
      "cell_type": "code",
      "source": [
        "import numpy as np\n",
        "import matplotlib.pyplot as plt"
      ],
      "metadata": {
        "id": "3rOti0H-lxpV"
      },
      "execution_count": 50,
      "outputs": []
    },
    {
      "cell_type": "code",
      "source": [
        "plt.imshow(np.array(a).reshape(5,6))\n",
        "plt.show()"
      ],
      "metadata": {
        "colab": {
          "base_uri": "https://localhost:8080/",
          "height": 430
        },
        "id": "Z2H9JR4BmANJ",
        "outputId": "c70d327b-815b-4c65-c2eb-01b8f942a03c"
      },
      "execution_count": 51,
      "outputs": [
        {
          "output_type": "display_data",
          "data": {
            "text/plain": [
              "<Figure size 640x480 with 1 Axes>"
            ],
            "image/png": "[encoded data removed]"
          },
          "metadata": {}
        }
      ]
    },
    {
      "cell_type": "code",
      "source": [
        "def sigmoid(x):\n",
        "    return 1 / (1 + np.exp(-x))"
      ],
      "metadata": {
        "id": "PF6buU4Fmi2T"
      },
      "execution_count": 52,
      "outputs": []
    },
    {
      "cell_type": "code",
      "source": [
        "def f_forward(x, w1, w2):\n",
        "    z1 = x.dot(w1)\n",
        "    a1 = sigmoid(z1)\n",
        "    z2 = a1.dot(w2)\n",
        "    a2 = sigmoid(z2)\n",
        "    return a2"
      ],
      "metadata": {
        "id": "zUJAbKTsmp2V"
      },
      "execution_count": 53,
      "outputs": []
    },
    {
      "cell_type": "code",
      "source": [
        "def generate_wt(x, y):\n",
        "    return np.random.randn(x, y)"
      ],
      "metadata": {
        "id": "YQPzcseOm_vj"
      },
      "execution_count": 54,
      "outputs": []
    },
    {
      "cell_type": "code",
      "source": [
        "def loss(out, y):\n",
        "    s = np.square(out - y)\n",
        "    s = np.sum(s) / len(y)\n",
        "    return s"
      ],
      "metadata": {
        "id": "orxoZR4enU8l"
      },
      "execution_count": 55,
      "outputs": []
    },
    {
      "cell_type": "code",
      "source": [
        "def back_prop(x, y, w1, w2, alpha):\n",
        "    z1 = x.dot(w1)\n",
        "    a1 = sigmoid(z1)\n",
        "    z2 = a1.dot(w2)\n",
        "    a2 = sigmoid(z2)\n",
        "    d2 = (a2 - y)\n",
        "    d1 = np.multiply(w2.dot(d2.transpose()).transpose(), (np.multiply(a1, 1 - a1)))\n",
        "    w1_adj = x.transpose().dot(d1)\n",
        "    w2_adj = a1.transpose().dot(d2)\n",
        "    w1 = w1 - (alpha * w1_adj)\n",
        "    w2 = w2 - (alpha * w2_adj)\n",
        "    return w1, w2"
      ],
      "metadata": {
        "id": "1t3qYQHbno8Y"
      },
      "execution_count": 56,
      "outputs": []
    },
    {
      "cell_type": "code",
      "source": [
        "def train(x, y, w1, w2, alpha=0.01, epoch=10):\n",
        "    acc = []\n",
        "    loss_val = []\n",
        "    for j in range(epoch):\n",
        "        l = []\n",
        "        for i in range(len(x)):\n",
        "            out = f_forward(x[i], w1, w2)\n",
        "            l.append(loss(out, y[i]))\n",
        "            w1, w2 = back_prop(x[i], y[i], w1, w2, alpha)\n",
        "        acc.append((1 - (sum(l) / len(x))) * 100)\n",
        "        loss_val.append(sum(l) / len(x))\n",
        "        print(\"Epochs:\", j + 1, \"acc:\", (1 - (sum(l) / len(x))) * 100)\n",
        "    return acc, loss_val, w1, w2"
      ],
      "metadata": {
        "id": "DM2AmIQBom9X"
      },
      "execution_count": 57,
      "outputs": []
    },
    {
      "cell_type": "code",
      "source": [
        "def predict(x, w1, w2):\n",
        "    out = f_forward(x, w1, w2)\n",
        "    maxm = 0\n",
        "    k = 0\n",
        "    for i in range(len(out[0])):\n",
        "        if maxm < out[0][i]:\n",
        "            maxm = out[0][i]\n",
        "            k = i\n",
        "    if k == 0:\n",
        "        print(\"Image is of letter A\")\n",
        "    elif k == 1:\n",
        "        print(\"Image is of letter B\")\n",
        "    else:\n",
        "        print(\"Image is of letter C\")\n",
        "    plt.imshow(x.reshape(5, 6))\n",
        "    plt.show()"
      ],
      "metadata": {
        "id": "ZCfDRoIMpnx9"
      },
      "execution_count": 58,
      "outputs": []
    },
    {
      "cell_type": "code",
      "source": [
        "w1 = generate_wt(30, 4)\n",
        "w2 = generate_wt(4, 3)\n",
        "print(w1, \"\\n\\n\", w2)"
      ],
      "metadata": {
        "colab": {
          "base_uri": "https://localhost:8080/"
        },
        "id": "VheH2ougqWeZ",
        "outputId": "0df4530a-794b-46ea-b99e-7d2e7e3b39ab"
      },
      "execution_count": 59,
      "outputs": [
        {
          "output_type": "stream",
          "name": "stdout",
          "text": [
            "[[-1.41373652 -0.99451197 -0.51343336  0.01341659]\n",
            " [-0.37749291  0.45453195  1.26185527 -0.7858485 ]\n",
            " [-1.25467945  0.21758061  0.0814641  -0.08091791]\n",
            " [ 0.22920718 -0.55128509 -1.40406684 -0.83033477]\n",
            " [ 0.40911338 -0.11209749 -0.78257949  1.62421013]\n",
            " [ 1.08875885  0.69436076  2.19527456 -1.70498957]\n",
            " [-1.25130143 -1.22101304  1.72951371 -2.106458  ]\n",
            " [-0.30244238 -0.56222582 -1.21878185  0.38412538]\n",
            " [ 1.84827677  0.98125846 -0.12409071 -1.27994987]\n",
            " [ 1.24775425  1.88569295  0.93725247 -0.26302097]\n",
            " [ 0.25252307  1.12635143 -0.56371779  0.30671172]\n",
            " [ 0.11740798  1.18865493 -1.61341934  1.02071183]\n",
            " [-0.42970366  1.47500412 -0.29498988 -1.05770366]\n",
            " [-0.58517807 -0.55632026  0.99733891  0.0551128 ]\n",
            " [ 0.15699446  0.61949791 -0.99757145  2.50467592]\n",
            " [ 0.87897004  1.04226917 -1.3059516  -0.94100123]\n",
            " [ 1.17809833  1.28690548 -0.17654494 -1.24599398]\n",
            " [-1.89190754 -0.29238295  2.04544347 -1.33931857]\n",
            " [ 0.0538863  -0.196152    0.71787421  0.29501909]\n",
            " [ 0.23654026 -0.2705256   0.73970449  1.07955924]\n",
            " [-0.53458256 -0.39496905 -0.40108878 -0.40724673]\n",
            " [-0.03802562  0.19343194  0.23021639  0.20867011]\n",
            " [-1.2596227  -0.18291644  0.47472294  1.26645093]\n",
            " [ 0.58878924 -1.31405991 -0.25781525 -0.33162026]\n",
            " [-0.29226507 -1.00214098  0.72517164 -0.06839129]\n",
            " [ 0.26569182  0.16709424 -1.57339712 -0.375531  ]\n",
            " [-0.10662806  0.62510975  1.73152144 -0.04217861]\n",
            " [ 2.03749268  1.68533139 -1.39956139 -1.28995929]\n",
            " [ 0.21074765 -0.58794669 -0.93514163 -2.07069413]\n",
            " [-1.42649712  1.05463434  0.26404201  0.79036902]] \n",
            "\n",
            " [[-0.08475354  0.89562348 -0.22412222]\n",
            " [-0.1408418  -0.77890514 -1.11130959]\n",
            " [ 1.38988859 -1.45374608  0.57946117]\n",
            " [-0.35205278  0.02406805 -1.1291706 ]]\n"
          ]
        }
      ]
    },
    {
      "cell_type": "code",
      "source": [
        "acc, loss_val, w1, w2 = train(x, y, w1, w2, 0.1, 100)"
      ],
      "metadata": {
        "id": "mMJ91euaqf-u",
        "colab": {
          "base_uri": "https://localhost:8080/"
        },
        "outputId": "e08bfd0f-44ef-49f0-db35-66dcb8903350"
      },
      "execution_count": 60,
      "outputs": [
        {
          "output_type": "stream",
          "name": "stdout",
          "text": [
            "Epochs: 1 acc: 79.5496073085248\n",
            "Epochs: 2 acc: 80.1813243274463\n",
            "Epochs: 3 acc: 80.79842159962713\n",
            "Epochs: 4 acc: 81.41131342349934\n",
            "Epochs: 5 acc: 82.0188296812192\n",
            "Epochs: 6 acc: 82.60898418065202\n",
            "Epochs: 7 acc: 83.16594289435996\n",
            "Epochs: 8 acc: 83.67910068482273\n",
            "Epochs: 9 acc: 84.14679755173964\n",
            "Epochs: 10 acc: 84.57366695143975\n",
            "Epochs: 11 acc: 84.96647253736117\n",
            "Epochs: 12 acc: 85.3316424519253\n",
            "Epochs: 13 acc: 85.67450808487919\n",
            "Epochs: 14 acc: 85.9993408286147\n",
            "Epochs: 15 acc: 86.30959567387676\n",
            "Epochs: 16 acc: 86.60813615245941\n",
            "Epochs: 17 acc: 86.8973909918415\n",
            "Epochs: 18 acc: 87.17945051338481\n",
            "Epochs: 19 acc: 87.45612172301455\n",
            "Epochs: 20 acc: 87.72895816528174\n",
            "Epochs: 21 acc: 87.99927552692354\n",
            "Epochs: 22 acc: 88.26815989325311\n",
            "Epochs: 23 acc: 88.53647291717036\n",
            "Epochs: 24 acc: 88.80485663299534\n",
            "Epochs: 25 acc: 89.07373980237952\n",
            "Epochs: 26 acc: 89.34334716161399\n",
            "Epochs: 27 acc: 89.61371251078664\n",
            "Epochs: 28 acc: 89.88469612088224\n",
            "Epochs: 29 acc: 90.15600640605072\n",
            "Epochs: 30 acc: 90.42722525667949\n",
            "Epochs: 31 acc: 90.69783593641783\n",
            "Epochs: 32 acc: 90.96725210053584\n",
            "Epochs: 33 acc: 91.23484635603275\n",
            "Epochs: 34 acc: 91.499976871939\n",
            "Epochs: 35 acc: 91.76201082790547\n",
            "Epochs: 36 acc: 92.02034389018013\n",
            "Epochs: 37 acc: 92.274415341968\n",
            "Epochs: 38 acc: 92.52371889448183\n",
            "Epochs: 39 acc: 92.7678095150522\n",
            "Epochs: 40 acc: 93.00630680861252\n",
            "Epochs: 41 acc: 93.23889558332887\n",
            "Epochs: 42 acc: 93.46532424085537\n",
            "Epochs: 43 acc: 93.68540158362374\n",
            "Epochs: 44 acc: 93.8989925513837\n",
            "Epochs: 45 acc: 94.1060133071289\n",
            "Epochs: 46 acc: 94.30642600218475\n",
            "Epochs: 47 acc: 94.50023346927684\n",
            "Epochs: 48 acc: 94.68747402409615\n",
            "Epochs: 49 acc: 94.86821650064311\n",
            "Epochs: 50 acc: 95.04255560234614\n",
            "Epochs: 51 acc: 95.21060761784705\n",
            "Epochs: 52 acc: 95.37250652555372\n",
            "Epochs: 53 acc: 95.52840049287168\n",
            "Epochs: 54 acc: 95.67844876299651\n",
            "Epochs: 55 acc: 95.82281891310757\n",
            "Epochs: 56 acc: 95.96168446182396\n",
            "Epochs: 57 acc: 96.09522280013769\n",
            "Epochs: 58 acc: 96.22361341815356\n",
            "Epochs: 59 acc: 96.34703639939481\n",
            "Epochs: 60 acc: 96.46567115481787\n",
            "Epochs: 61 acc: 96.57969536974392\n",
            "Epochs: 62 acc: 96.6892841384351\n",
            "Epochs: 63 acc: 96.79460926284891\n",
            "Epochs: 64 acc: 96.89583869406378\n",
            "Epochs: 65 acc: 96.99313609687893\n",
            "Epochs: 66 acc: 97.08666052008255\n",
            "Epochs: 67 acc: 97.17656615679924\n",
            "Epochs: 68 acc: 97.26300218113548\n",
            "Epochs: 69 acc: 97.34611264902055\n",
            "Epochs: 70 acc: 97.42603645267657\n",
            "Epochs: 71 acc: 97.50290731954213\n",
            "Epochs: 72 acc: 97.57685384772208\n",
            "Epochs: 73 acc: 97.64799957114506\n",
            "Epochs: 74 acc: 97.71646304859144\n",
            "Epochs: 75 acc: 97.78235797161481\n",
            "Epochs: 76 acc: 97.84579328713217\n",
            "Epochs: 77 acc: 97.90687333111157\n",
            "Epochs: 78 acc: 97.96569797035193\n",
            "Epochs: 79 acc: 98.0223627498375\n",
            "Epochs: 80 acc: 98.07695904356932\n",
            "Epochs: 81 acc: 98.12957420713528\n",
            "Epochs: 82 acc: 98.18029173058741\n",
            "Epochs: 83 acc: 98.22919139045726\n",
            "Epochs: 84 acc: 98.2763493999618\n",
            "Epochs: 85 acc: 98.32183855664172\n",
            "Epochs: 86 acc: 98.36572838683264\n",
            "Epochs: 87 acc: 98.40808528650442\n",
            "Epochs: 88 acc: 98.44897265811662\n",
            "Epochs: 89 acc: 98.48845104323264\n",
            "Epochs: 90 acc: 98.526578250714\n",
            "Epochs: 91 acc: 98.56340948038203\n",
            "Epochs: 92 acc: 98.59899744208836\n",
            "Epochs: 93 acc: 98.63339247018001\n",
            "Epochs: 94 acc: 98.66664263338197\n",
            "Epochs: 95 acc: 98.69879384014908\n",
            "Epochs: 96 acc: 98.72988993956304\n",
            "Epochs: 97 acc: 98.75997281786914\n",
            "Epochs: 98 acc: 98.78908249076166\n",
            "Epochs: 99 acc: 98.81725719153832\n",
            "Epochs: 100 acc: 98.84453345525202\n"
          ]
        }
      ]
    },
    {
      "cell_type": "code",
      "source": [
        "import matplotlib.pyplot as plt1\n",
        "plt1.plot(acc)\n",
        "plt.ylabel(\"Accuracy\")\n",
        "plt.xlabel(\"Epochs:\")\n",
        "plt.show()"
      ],
      "metadata": {
        "id": "qPU2oQYmqvCg",
        "colab": {
          "base_uri": "https://localhost:8080/",
          "height": 449
        },
        "outputId": "f9befb8d-f797-4687-a89f-43c7468c820c"
      },
      "execution_count": 61,
      "outputs": [
        {
          "output_type": "display_data",
          "data": {
            "text/plain": [
              "<Figure size 640x480 with 1 Axes>"
            ],
            "image/png": "[encoded data removed]"
          },
          "metadata": {}
        }
      ]
    },
    {
      "cell_type": "code",
      "source": [
        "plt1 = plt.plot(loss_val)\n",
        "plt.ylabel('Loss')\n",
        "plt.xlabel('Epochs')\n",
        "plt.show()"
      ],
      "metadata": {
        "id": "t-I9AO-8q7Js",
        "colab": {
          "base_uri": "https://localhost:8080/",
          "height": 449
        },
        "outputId": "526be0b3-c2a5-4949-bdfc-49e795c1cbb4"
      },
      "execution_count": 65,
      "outputs": [
        {
          "output_type": "display_data",
          "data": {
            "text/plain": [
              "<Figure size 640x480 with 1 Axes>"
            ],
            "image/png": "[encoded data removed]"
          },
          "metadata": {}
        }
      ]
    },
    {
      "cell_type": "code",
      "source": [
        "print(w1, \"\\n\", w2)"
      ],
      "metadata": {
        "id": "Wu9lsY__rCZH",
        "colab": {
          "base_uri": "https://localhost:8080/"
        },
        "outputId": "522aa238-dee5-49e2-d77f-d05283177486"
      },
      "execution_count": 66,
      "outputs": [
        {
          "output_type": "stream",
          "name": "stdout",
          "text": [
            "[[-1.41373652 -0.99451197 -0.51343336  0.01341659]\n",
            " [-0.03233302  0.11526677  1.45184623 -0.81874121]\n",
            " [-1.13342594  0.00815057  0.74510845 -0.06724989]\n",
            " [ 0.35046069 -0.76071513 -0.7404225  -0.81666675]\n",
            " [ 0.75427327 -0.45136267 -0.59258853  1.59131742]\n",
            " [ 1.08875885  0.69436076  2.19527456 -1.70498957]\n",
            " [-1.25130143 -1.22101304  1.72951371 -2.106458  ]\n",
            " [-0.18118887 -0.77165587 -0.5551375   0.3977934 ]\n",
            " [ 1.84827677  0.98125846 -0.12409071 -1.27994987]\n",
            " [ 1.24775425  1.88569295  0.93725247 -0.26302097]\n",
            " [ 0.2160967   1.33985467 -0.75925027  0.9056847 ]\n",
            " [ 0.11740798  1.18865493 -1.61341934  1.02071183]\n",
            " [-0.65361004  1.60483926  0.17866351 -1.01114293]\n",
            " [-0.46392456 -0.7657503   1.66098326  0.06878082]\n",
            " [ 0.1205681   0.83300115 -1.19310393  3.1036489 ]\n",
            " [ 0.84254367  1.25577241 -1.50148408 -0.34202825]\n",
            " [ 1.14167197  1.50040872 -0.37207742 -0.647021  ]\n",
            " [-2.11581392 -0.16254781  2.51909686 -1.29275784]\n",
            " [-0.17002008 -0.06631686  1.1915276   0.34157983]\n",
            " [ 0.58170015 -0.60979078  0.92969545  1.04666653]\n",
            " [-0.53458256 -0.39496905 -0.40108878 -0.40724673]\n",
            " [-0.03802562  0.19343194  0.23021639  0.20867011]\n",
            " [-1.07214268 -0.09924834 -0.19446293  1.81886318]\n",
            " [ 0.36488286 -1.18422477  0.21583814 -0.28505953]\n",
            " [-0.51617145 -0.87230584  1.19882503 -0.02183055]\n",
            " [ 0.61085172 -0.17217094 -1.38340616 -0.40842371]\n",
            " [ 0.23853183  0.28584457  1.9215124  -0.07507132]\n",
            " [ 2.38265257  1.34606621 -1.20957043 -1.32285201]\n",
            " [ 0.55590754 -0.92721187 -0.74515067 -2.10358684]\n",
            " [-1.6504035   1.18446948  0.7376954   0.83692976]] \n",
            " [[-3.44804825  0.92181483  1.46240408]\n",
            " [ 0.30764351  0.07959834 -2.39972546]\n",
            " [ 1.91843763 -3.6824671   0.97478774]\n",
            " [-0.18706684  1.23467603 -2.2412509 ]]\n"
          ]
        }
      ]
    },
    {
      "cell_type": "code",
      "source": [
        "predict(x[2], w1, w2)"
      ],
      "metadata": {
        "id": "03v5nxYBrH4-",
        "colab": {
          "base_uri": "https://localhost:8080/",
          "height": 448
        },
        "outputId": "25d0d573-5f26-4c93-c88f-985d15aca5de"
      },
      "execution_count": 67,
      "outputs": [
        {
          "output_type": "stream",
          "name": "stdout",
          "text": [
            "C\n"
          ]
        },
        {
          "output_type": "display_data",
          "data": {
            "text/plain": [
              "<Figure size 640x480 with 1 Axes>"
            ],
            "image/png": "[encoded data removed]"
          },
          "metadata": {}
        }
      ]
    },
    {
      "cell_type": "code",
      "source": [],
      "metadata": {
        "id": "lpz2ljedrPXG"
      },
      "execution_count": null,
      "outputs": []
    }
  ]
}